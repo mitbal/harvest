{
 "cells": [
  {
   "cell_type": "code",
   "execution_count": 1,
   "id": "c2340ae5",
   "metadata": {},
   "outputs": [],
   "source": [
    "f = open('../static/sitemap_full.xml', 'w')"
   ]
  },
  {
   "cell_type": "code",
   "execution_count": 2,
   "id": "6dd9516c",
   "metadata": {},
   "outputs": [
    {
     "data": {
      "text/plain": [
       "61"
      ]
     },
     "execution_count": 2,
     "metadata": {},
     "output_type": "execute_result"
    }
   ],
   "source": [
    "f.write('<?xml version=\"1.0\" encoding=\"UTF-8\"?>\\n')\n",
    "f.write('<urlset xmlns=\"http://www.sitemaps.org/schemas/sitemap/0.9\">\\n')"
   ]
  },
  {
   "cell_type": "code",
   "execution_count": 3,
   "id": "77ce33e9",
   "metadata": {},
   "outputs": [],
   "source": [
    "import pandas as pd"
   ]
  },
  {
   "cell_type": "code",
   "execution_count": 4,
   "id": "ee92f249",
   "metadata": {},
   "outputs": [
    {
     "data": {
      "text/html": [
       "<div>\n",
       "<style scoped>\n",
       "    .dataframe tbody tr th:only-of-type {\n",
       "        vertical-align: middle;\n",
       "    }\n",
       "\n",
       "    .dataframe tbody tr th {\n",
       "        vertical-align: top;\n",
       "    }\n",
       "\n",
       "    .dataframe thead th {\n",
       "        text-align: right;\n",
       "    }\n",
       "</style>\n",
       "<table border=\"1\" class=\"dataframe\">\n",
       "  <thead>\n",
       "    <tr style=\"text-align: right;\">\n",
       "      <th></th>\n",
       "      <th>symbol</th>\n",
       "      <th>price</th>\n",
       "      <th>beta</th>\n",
       "      <th>volAvg</th>\n",
       "      <th>mktCap</th>\n",
       "      <th>lastDiv</th>\n",
       "      <th>range</th>\n",
       "      <th>changes</th>\n",
       "      <th>companyName</th>\n",
       "      <th>currency</th>\n",
       "      <th>...</th>\n",
       "      <th>zip</th>\n",
       "      <th>dcfDiff</th>\n",
       "      <th>dcf</th>\n",
       "      <th>image</th>\n",
       "      <th>ipoDate</th>\n",
       "      <th>defaultImage</th>\n",
       "      <th>isEtf</th>\n",
       "      <th>isActivelyTrading</th>\n",
       "      <th>isAdr</th>\n",
       "      <th>isFund</th>\n",
       "    </tr>\n",
       "  </thead>\n",
       "  <tbody>\n",
       "    <tr>\n",
       "      <th>0</th>\n",
       "      <td>PANI.JK</td>\n",
       "      <td>12850.0</td>\n",
       "      <td>-0.070</td>\n",
       "      <td>18062726</td>\n",
       "      <td>2.109276e+14</td>\n",
       "      <td>2.00</td>\n",
       "      <td>4640-19650</td>\n",
       "      <td>100.0</td>\n",
       "      <td>PT Pratama Abadi Nusa Industri Tbk</td>\n",
       "      <td>IDR</td>\n",
       "      <td>...</td>\n",
       "      <td>15720.0</td>\n",
       "      <td>22358.52163</td>\n",
       "      <td>-9608.521633</td>\n",
       "      <td>https://images.financialmodelingprep.com/symbo...</td>\n",
       "      <td>2018-09-18</td>\n",
       "      <td>True</td>\n",
       "      <td>False</td>\n",
       "      <td>True</td>\n",
       "      <td>False</td>\n",
       "      <td>False</td>\n",
       "    </tr>\n",
       "    <tr>\n",
       "      <th>1</th>\n",
       "      <td>AMRT.JK</td>\n",
       "      <td>2710.0</td>\n",
       "      <td>-0.028</td>\n",
       "      <td>21817149</td>\n",
       "      <td>1.125314e+14</td>\n",
       "      <td>28.68</td>\n",
       "      <td>2630-3650</td>\n",
       "      <td>-50.0</td>\n",
       "      <td>PT Sumber Alfaria Trijaya Tbk</td>\n",
       "      <td>IDR</td>\n",
       "      <td>...</td>\n",
       "      <td>15143.0</td>\n",
       "      <td>-4819.54606</td>\n",
       "      <td>7719.546059</td>\n",
       "      <td>https://images.financialmodelingprep.com/symbo...</td>\n",
       "      <td>2009-01-15</td>\n",
       "      <td>False</td>\n",
       "      <td>False</td>\n",
       "      <td>True</td>\n",
       "      <td>False</td>\n",
       "      <td>False</td>\n",
       "    </tr>\n",
       "    <tr>\n",
       "      <th>2</th>\n",
       "      <td>TOBA.JK</td>\n",
       "      <td>438.0</td>\n",
       "      <td>0.695</td>\n",
       "      <td>28058224</td>\n",
       "      <td>3.577510e+12</td>\n",
       "      <td>0.00</td>\n",
       "      <td>193-735</td>\n",
       "      <td>10.0</td>\n",
       "      <td>PT TBS Energi Utama Tbk</td>\n",
       "      <td>IDR</td>\n",
       "      <td>...</td>\n",
       "      <td>12190.0</td>\n",
       "      <td>294.24651</td>\n",
       "      <td>-0.246508</td>\n",
       "      <td>https://images.financialmodelingprep.com/symbo...</td>\n",
       "      <td>2012-07-06</td>\n",
       "      <td>False</td>\n",
       "      <td>False</td>\n",
       "      <td>True</td>\n",
       "      <td>False</td>\n",
       "      <td>False</td>\n",
       "    </tr>\n",
       "    <tr>\n",
       "      <th>3</th>\n",
       "      <td>TBLA.JK</td>\n",
       "      <td>605.0</td>\n",
       "      <td>0.773</td>\n",
       "      <td>1229659</td>\n",
       "      <td>3.569766e+12</td>\n",
       "      <td>75.00</td>\n",
       "      <td>575-720</td>\n",
       "      <td>5.0</td>\n",
       "      <td>PT Tunas Baru Lampung Tbk</td>\n",
       "      <td>IDR</td>\n",
       "      <td>...</td>\n",
       "      <td>12940.0</td>\n",
       "      <td>NaN</td>\n",
       "      <td>0.000000</td>\n",
       "      <td>https://images.financialmodelingprep.com/symbo...</td>\n",
       "      <td>2001-10-31</td>\n",
       "      <td>False</td>\n",
       "      <td>False</td>\n",
       "      <td>True</td>\n",
       "      <td>False</td>\n",
       "      <td>False</td>\n",
       "    </tr>\n",
       "    <tr>\n",
       "      <th>4</th>\n",
       "      <td>DMAS.JK</td>\n",
       "      <td>139.0</td>\n",
       "      <td>0.730</td>\n",
       "      <td>16917154</td>\n",
       "      <td>6.699536e+12</td>\n",
       "      <td>24.00</td>\n",
       "      <td>134-174</td>\n",
       "      <td>-3.0</td>\n",
       "      <td>PT Puradelta Lestari Tbk</td>\n",
       "      <td>IDR</td>\n",
       "      <td>...</td>\n",
       "      <td>NaN</td>\n",
       "      <td>-129.33861</td>\n",
       "      <td>271.338615</td>\n",
       "      <td>https://images.financialmodelingprep.com/symbo...</td>\n",
       "      <td>2015-05-29</td>\n",
       "      <td>False</td>\n",
       "      <td>False</td>\n",
       "      <td>True</td>\n",
       "      <td>False</td>\n",
       "      <td>False</td>\n",
       "    </tr>\n",
       "  </tbody>\n",
       "</table>\n",
       "<p>5 rows × 36 columns</p>\n",
       "</div>"
      ],
      "text/plain": [
       "    symbol    price   beta    volAvg        mktCap  lastDiv       range  \\\n",
       "0  PANI.JK  12850.0 -0.070  18062726  2.109276e+14     2.00  4640-19650   \n",
       "1  AMRT.JK   2710.0 -0.028  21817149  1.125314e+14    28.68   2630-3650   \n",
       "2  TOBA.JK    438.0  0.695  28058224  3.577510e+12     0.00     193-735   \n",
       "3  TBLA.JK    605.0  0.773   1229659  3.569766e+12    75.00     575-720   \n",
       "4  DMAS.JK    139.0  0.730  16917154  6.699536e+12    24.00     134-174   \n",
       "\n",
       "   changes                         companyName currency  ...      zip  \\\n",
       "0    100.0  PT Pratama Abadi Nusa Industri Tbk      IDR  ...  15720.0   \n",
       "1    -50.0       PT Sumber Alfaria Trijaya Tbk      IDR  ...  15143.0   \n",
       "2     10.0             PT TBS Energi Utama Tbk      IDR  ...  12190.0   \n",
       "3      5.0           PT Tunas Baru Lampung Tbk      IDR  ...  12940.0   \n",
       "4     -3.0            PT Puradelta Lestari Tbk      IDR  ...      NaN   \n",
       "\n",
       "       dcfDiff          dcf  \\\n",
       "0  22358.52163 -9608.521633   \n",
       "1  -4819.54606  7719.546059   \n",
       "2    294.24651    -0.246508   \n",
       "3          NaN     0.000000   \n",
       "4   -129.33861   271.338615   \n",
       "\n",
       "                                               image     ipoDate defaultImage  \\\n",
       "0  https://images.financialmodelingprep.com/symbo...  2018-09-18         True   \n",
       "1  https://images.financialmodelingprep.com/symbo...  2009-01-15        False   \n",
       "2  https://images.financialmodelingprep.com/symbo...  2012-07-06        False   \n",
       "3  https://images.financialmodelingprep.com/symbo...  2001-10-31        False   \n",
       "4  https://images.financialmodelingprep.com/symbo...  2015-05-29        False   \n",
       "\n",
       "   isEtf isActivelyTrading  isAdr isFund  \n",
       "0  False              True  False  False  \n",
       "1  False              True  False  False  \n",
       "2  False              True  False  False  \n",
       "3  False              True  False  False  \n",
       "4  False              True  False  False  \n",
       "\n",
       "[5 rows x 36 columns]"
      ]
     },
     "execution_count": 4,
     "metadata": {},
     "output_type": "execute_result"
    }
   ],
   "source": [
    "df = pd.read_csv('../data/jkse/company_profiles.csv')\n",
    "df.head()"
   ]
  },
  {
   "cell_type": "code",
   "execution_count": 5,
   "id": "38669334",
   "metadata": {},
   "outputs": [],
   "source": [
    "stock_list = df[(df['lastDiv'] > 0) & (df['isActivelyTrading'] == True)].sort_values('mktCap', ascending=False)['symbol'][:100]"
   ]
  },
  {
   "cell_type": "code",
   "execution_count": 6,
   "id": "94ade4d0",
   "metadata": {},
   "outputs": [],
   "source": [
    "for stock in stock_list:\n",
    "    f.write(f'<url><loc>https://panendividen.com/stock_picker?stock={stock}</loc><changefreq>weekly</changefreq><priority>0.8</priority></url>\\n')"
   ]
  },
  {
   "cell_type": "code",
   "execution_count": 7,
   "id": "5dc58be6",
   "metadata": {},
   "outputs": [
    {
     "data": {
      "text/plain": [
       "10"
      ]
     },
     "execution_count": 7,
     "metadata": {},
     "output_type": "execute_result"
    }
   ],
   "source": [
    "f.write('</urlset>\\n')"
   ]
  },
  {
   "cell_type": "code",
   "execution_count": 8,
   "id": "2db5d964",
   "metadata": {},
   "outputs": [],
   "source": [
    "f.close()"
   ]
  },
  {
   "cell_type": "code",
   "execution_count": null,
   "id": "7f190f77",
   "metadata": {},
   "outputs": [],
   "source": []
  }
 ],
 "metadata": {
  "kernelspec": {
   "display_name": "base",
   "language": "python",
   "name": "python3"
  },
  "language_info": {
   "codemirror_mode": {
    "name": "ipython",
    "version": 3
   },
   "file_extension": ".py",
   "mimetype": "text/x-python",
   "name": "python",
   "nbconvert_exporter": "python",
   "pygments_lexer": "ipython3",
   "version": "3.12.3"
  }
 },
 "nbformat": 4,
 "nbformat_minor": 5
}
